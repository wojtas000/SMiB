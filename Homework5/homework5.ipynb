{
 "cells": [
  {
   "cell_type": "code",
   "execution_count": 2,
   "metadata": {},
   "outputs": [],
   "source": [
    "import numpy as np\n",
    "import pandas as pd\n",
    "from sklearn.neighbors import KNeighborsRegressor\n",
    "from sklearn.metrics import mean_squared_error\n",
    "from pykrige.ok import OrdinaryKriging\n",
    "from pykrige.uk import UniversalKriging\n",
    "import matplotlib.pyplot as plt"
   ]
  },
  {
   "cell_type": "code",
   "execution_count": 4,
   "metadata": {},
   "outputs": [],
   "source": [
    "train_data = pd.read_csv('swissrain100.csv')\n",
    "test_data = pd.read_csv('swissrain367.csv')\n",
    "\n",
    "X_train = train_data[['x', 'y', 'altitude']].values\n",
    "y_train = train_data['value'].values\n",
    "\n",
    "X_test = test_data[['x', 'y', 'altitude']].values\n",
    "y_test = test_data['value'].values"
   ]
  },
  {
   "cell_type": "code",
   "execution_count": 10,
   "metadata": {},
   "outputs": [
    {
     "data": {
      "text/plain": [
       "(100, 367)"
      ]
     },
     "execution_count": 10,
     "metadata": {},
     "output_type": "execute_result"
    }
   ],
   "source": [
    "len(X_train), len(X_test)"
   ]
  },
  {
   "cell_type": "code",
   "execution_count": 20,
   "metadata": {},
   "outputs": [
    {
     "name": "stdout",
     "output_type": "stream",
     "text": [
      "Optimal n_neighbors for NN: 25\n",
      "Optimal n_neighbors for IDW: 99\n"
     ]
    }
   ],
   "source": [
    "from sklearn.model_selection import LeaveOneOut\n",
    "from sklearn.metrics import mean_squared_error\n",
    "\n",
    "# Perform leave-one-out cross-validation for NN\n",
    "nn_mse_scores = []\n",
    "for n in range(1, len(X_train)):\n",
    "    nn = KNeighborsRegressor(n_neighbors=n)\n",
    "    loo = LeaveOneOut()\n",
    "    mse_scores = []\n",
    "    for train_index, test_index in loo.split(X_train):\n",
    "        X_train_loo, X_test_loo = X_train[train_index], X_train[test_index]\n",
    "        y_train_loo, y_test_loo = y_train[train_index], y_train[test_index]\n",
    "        nn.fit(X_train_loo, y_train_loo)\n",
    "        y_pred_loo = nn.predict(X_test_loo)\n",
    "        mse_scores.append(mean_squared_error(y_test_loo, y_pred_loo))\n",
    "    nn_mse_scores.append(np.mean(mse_scores))\n",
    "\n",
    "optimal_n_nn = np.argmin(nn_mse_scores) + 1\n",
    "print(f\"Optimal n_neighbors for NN: {optimal_n_nn}\")\n",
    "\n",
    "# Perform leave-one-out cross-validation for IDW\n",
    "idw_mse_scores = []\n",
    "for n in range(1, len(X_train)):\n",
    "    idw = KNeighborsRegressor(n_neighbors=n, weights='distance')\n",
    "    loo = LeaveOneOut()\n",
    "    mse_scores = []\n",
    "    for train_index, test_index in loo.split(X_train):\n",
    "        X_train_loo, X_test_loo = X_train[train_index], X_train[test_index]\n",
    "        y_train_loo, y_test_loo = y_train[train_index], y_train[test_index]\n",
    "        idw.fit(X_train_loo, y_train_loo)\n",
    "        y_pred_loo = idw.predict(X_test_loo)\n",
    "        mse_scores.append(mean_squared_error(y_test_loo, y_pred_loo))\n",
    "    idw_mse_scores.append(np.mean(mse_scores))\n",
    "\n",
    "optimal_n_idw = np.argmin(idw_mse_scores) + 1\n",
    "print(f\"Optimal n_neighbors for IDW: {optimal_n_idw}\")"
   ]
  },
  {
   "cell_type": "code",
   "execution_count": 17,
   "metadata": {},
   "outputs": [
    {
     "name": "stdout",
     "output_type": "stream",
     "text": [
      "Nearest Neighbor MSE: 12630.28\n"
     ]
    }
   ],
   "source": [
    "nn = KNeighborsRegressor(n_neighbors=optimal_n_nn)\n",
    "nn.fit(X_train, y_train)\n",
    "y_pred_nn = nn.predict(X_test)\n",
    "mse_nn = mean_squared_error(y_test, y_pred_nn)\n",
    "print(f\"Nearest Neighbor MSE: {mse_nn:.2f}\")"
   ]
  },
  {
   "cell_type": "code",
   "execution_count": 19,
   "metadata": {},
   "outputs": [
    {
     "name": "stdout",
     "output_type": "stream",
     "text": [
      "IDW MSE: 14515.69\n"
     ]
    }
   ],
   "source": [
    "idw = KNeighborsRegressor(n_neighbors=4, weights='distance')\n",
    "idw.fit(X_train, y_train)\n",
    "y_pred_idw = idw.predict(X_test)\n",
    "mse_idw = mean_squared_error(y_test, y_pred_idw)\n",
    "print(f\"IDW MSE: {mse_idw:.2f}\")"
   ]
  }
 ],
 "metadata": {
  "kernelspec": {
   "display_name": "venv",
   "language": "python",
   "name": "python3"
  },
  "language_info": {
   "codemirror_mode": {
    "name": "ipython",
    "version": 3
   },
   "file_extension": ".py",
   "mimetype": "text/x-python",
   "name": "python",
   "nbconvert_exporter": "python",
   "pygments_lexer": "ipython3",
   "version": "3.12.2"
  }
 },
 "nbformat": 4,
 "nbformat_minor": 2
}
